{
 "cells": [
  {
   "cell_type": "markdown",
   "id": "4007da76-30ad-48d8-bd8a-460cc90c1f10",
   "metadata": {},
   "source": [
    "**LOAD THE DATA**"
   ]
  },
  {
   "cell_type": "code",
   "execution_count": 10,
   "id": "d7981b66-edd9-4264-96db-b9c346093856",
   "metadata": {},
   "outputs": [],
   "source": [
    "import numpy as np\n",
    "import pandas as pd\n",
    "import matplotlib.pyplot as plt # visualizing data\n",
    "%matplotlib inline\n",
    "import seaborn as sns"
   ]
  },
  {
   "cell_type": "code",
   "execution_count": 11,
   "id": "e0bb5356-980d-45a7-aec8-a9af317c129d",
   "metadata": {},
   "outputs": [],
   "source": [
    "df = pd.read_csv('Retail Sales Analysis_utf.csv' , encoding= 'unicode_escape')\n",
    "#to avoid encoding error, use 'unicode_escape'"
   ]
  },
  {
   "cell_type": "code",
   "execution_count": 12,
   "id": "4c34d658-cb5e-4d0b-a57d-66454f38ba69",
   "metadata": {},
   "outputs": [
    {
     "data": {
      "text/plain": [
       "(2000, 11)"
      ]
     },
     "execution_count": 12,
     "metadata": {},
     "output_type": "execute_result"
    }
   ],
   "source": [
    "df.shape"
   ]
  },
  {
   "cell_type": "code",
   "execution_count": 132,
   "id": "9adf615e-bbf5-4df3-af88-7e6791ba1c08",
   "metadata": {},
   "outputs": [
    {
     "data": {
      "text/html": [
       "<div>\n",
       "<style scoped>\n",
       "    .dataframe tbody tr th:only-of-type {\n",
       "        vertical-align: middle;\n",
       "    }\n",
       "\n",
       "    .dataframe tbody tr th {\n",
       "        vertical-align: top;\n",
       "    }\n",
       "\n",
       "    .dataframe thead th {\n",
       "        text-align: right;\n",
       "    }\n",
       "</style>\n",
       "<table border=\"1\" class=\"dataframe\">\n",
       "  <thead>\n",
       "    <tr style=\"text-align: right;\">\n",
       "      <th></th>\n",
       "      <th>transactions_id</th>\n",
       "      <th>sale_date</th>\n",
       "      <th>sale_time</th>\n",
       "      <th>customer_id</th>\n",
       "      <th>gender</th>\n",
       "      <th>age</th>\n",
       "      <th>category</th>\n",
       "      <th>quantity</th>\n",
       "      <th>price_per_unit</th>\n",
       "      <th>cogs</th>\n",
       "      <th>total_sale</th>\n",
       "      <th>order_value_raw</th>\n",
       "      <th>month</th>\n",
       "      <th>year</th>\n",
       "      <th>day</th>\n",
       "    </tr>\n",
       "  </thead>\n",
       "  <tbody>\n",
       "    <tr>\n",
       "      <th>0</th>\n",
       "      <td>180</td>\n",
       "      <td>2022-11-05</td>\n",
       "      <td>10:47:00</td>\n",
       "      <td>117</td>\n",
       "      <td>Male</td>\n",
       "      <td>41</td>\n",
       "      <td>Clothing</td>\n",
       "      <td>3.0</td>\n",
       "      <td>300.0</td>\n",
       "      <td>129.0</td>\n",
       "      <td>900.0</td>\n",
       "      <td>180</td>\n",
       "      <td>11</td>\n",
       "      <td>2022</td>\n",
       "      <td>5</td>\n",
       "    </tr>\n",
       "    <tr>\n",
       "      <th>1</th>\n",
       "      <td>522</td>\n",
       "      <td>2022-07-09</td>\n",
       "      <td>11:00:00</td>\n",
       "      <td>52</td>\n",
       "      <td>Male</td>\n",
       "      <td>46</td>\n",
       "      <td>Beauty</td>\n",
       "      <td>3.0</td>\n",
       "      <td>500.0</td>\n",
       "      <td>145.0</td>\n",
       "      <td>1500.0</td>\n",
       "      <td>522</td>\n",
       "      <td>7</td>\n",
       "      <td>2022</td>\n",
       "      <td>9</td>\n",
       "    </tr>\n",
       "    <tr>\n",
       "      <th>2</th>\n",
       "      <td>559</td>\n",
       "      <td>2022-12-12</td>\n",
       "      <td>10:48:00</td>\n",
       "      <td>5</td>\n",
       "      <td>Female</td>\n",
       "      <td>40</td>\n",
       "      <td>Clothing</td>\n",
       "      <td>4.0</td>\n",
       "      <td>300.0</td>\n",
       "      <td>84.0</td>\n",
       "      <td>1200.0</td>\n",
       "      <td>559</td>\n",
       "      <td>12</td>\n",
       "      <td>2022</td>\n",
       "      <td>12</td>\n",
       "    </tr>\n",
       "    <tr>\n",
       "      <th>3</th>\n",
       "      <td>1180</td>\n",
       "      <td>2022-01-06</td>\n",
       "      <td>08:53:00</td>\n",
       "      <td>85</td>\n",
       "      <td>Male</td>\n",
       "      <td>41</td>\n",
       "      <td>Clothing</td>\n",
       "      <td>3.0</td>\n",
       "      <td>300.0</td>\n",
       "      <td>129.0</td>\n",
       "      <td>900.0</td>\n",
       "      <td>1180</td>\n",
       "      <td>1</td>\n",
       "      <td>2022</td>\n",
       "      <td>6</td>\n",
       "    </tr>\n",
       "    <tr>\n",
       "      <th>4</th>\n",
       "      <td>1522</td>\n",
       "      <td>2022-11-14</td>\n",
       "      <td>08:35:00</td>\n",
       "      <td>48</td>\n",
       "      <td>Male</td>\n",
       "      <td>46</td>\n",
       "      <td>Beauty</td>\n",
       "      <td>3.0</td>\n",
       "      <td>500.0</td>\n",
       "      <td>235.0</td>\n",
       "      <td>1500.0</td>\n",
       "      <td>1522</td>\n",
       "      <td>11</td>\n",
       "      <td>2022</td>\n",
       "      <td>14</td>\n",
       "    </tr>\n",
       "  </tbody>\n",
       "</table>\n",
       "</div>"
      ],
      "text/plain": [
       "   transactions_id  sale_date sale_time  customer_id  gender  age  category  \\\n",
       "0              180 2022-11-05  10:47:00          117    Male   41  Clothing   \n",
       "1              522 2022-07-09  11:00:00           52    Male   46    Beauty   \n",
       "2              559 2022-12-12  10:48:00            5  Female   40  Clothing   \n",
       "3             1180 2022-01-06  08:53:00           85    Male   41  Clothing   \n",
       "4             1522 2022-11-14  08:35:00           48    Male   46    Beauty   \n",
       "\n",
       "   quantity  price_per_unit   cogs  total_sale  order_value_raw  month  year  \\\n",
       "0       3.0           300.0  129.0       900.0              180     11  2022   \n",
       "1       3.0           500.0  145.0      1500.0              522      7  2022   \n",
       "2       4.0           300.0   84.0      1200.0              559     12  2022   \n",
       "3       3.0           300.0  129.0       900.0             1180      1  2022   \n",
       "4       3.0           500.0  235.0      1500.0             1522     11  2022   \n",
       "\n",
       "   day  \n",
       "0    5  \n",
       "1    9  \n",
       "2   12  \n",
       "3    6  \n",
       "4   14  "
      ]
     },
     "execution_count": 132,
     "metadata": {},
     "output_type": "execute_result"
    }
   ],
   "source": [
    "df.head()"
   ]
  },
  {
   "cell_type": "code",
   "execution_count": 133,
   "id": "32a7d7e8-f021-4323-8422-992578a0b3d0",
   "metadata": {},
   "outputs": [
    {
     "name": "stdout",
     "output_type": "stream",
     "text": [
      "<class 'pandas.core.frame.DataFrame'>\n",
      "Index: 1987 entries, 0 to 1999\n",
      "Data columns (total 15 columns):\n",
      " #   Column           Non-Null Count  Dtype         \n",
      "---  ------           --------------  -----         \n",
      " 0   transactions_id  1987 non-null   int64         \n",
      " 1   sale_date        1987 non-null   datetime64[ns]\n",
      " 2   sale_time        1987 non-null   object        \n",
      " 3   customer_id      1987 non-null   int64         \n",
      " 4   gender           1987 non-null   object        \n",
      " 5   age              1987 non-null   int64         \n",
      " 6   category         1987 non-null   object        \n",
      " 7   quantity         1987 non-null   float64       \n",
      " 8   price_per_unit   1987 non-null   float64       \n",
      " 9   cogs             1987 non-null   float64       \n",
      " 10  total_sale       1987 non-null   float64       \n",
      " 11  order_value_raw  1987 non-null   int64         \n",
      " 12  month            1987 non-null   int32         \n",
      " 13  year             1987 non-null   int32         \n",
      " 14  day              1987 non-null   int32         \n",
      "dtypes: datetime64[ns](1), float64(4), int32(3), int64(4), object(3)\n",
      "memory usage: 225.1+ KB\n"
     ]
    }
   ],
   "source": [
    "df.info()"
   ]
  },
  {
   "cell_type": "markdown",
   "id": "561644de-c22b-4d5e-99f3-74de0e744361",
   "metadata": {},
   "source": [
    "***DATA CLEANING***"
   ]
  },
  {
   "cell_type": "code",
   "execution_count": 134,
   "id": "06f5d183-caef-4596-8848-3c7aebddc05a",
   "metadata": {},
   "outputs": [
    {
     "data": {
      "text/plain": [
       "transactions_id    0\n",
       "sale_date          0\n",
       "sale_time          0\n",
       "customer_id        0\n",
       "gender             0\n",
       "age                0\n",
       "category           0\n",
       "quantity           0\n",
       "price_per_unit     0\n",
       "cogs               0\n",
       "total_sale         0\n",
       "order_value_raw    0\n",
       "month              0\n",
       "year               0\n",
       "day                0\n",
       "dtype: int64"
      ]
     },
     "execution_count": 134,
     "metadata": {},
     "output_type": "execute_result"
    }
   ],
   "source": [
    "pd.isnull(df).sum()"
   ]
  },
  {
   "cell_type": "code",
   "execution_count": 135,
   "id": "4a08b052-08ed-4b3d-9532-0e64910c435e",
   "metadata": {},
   "outputs": [],
   "source": [
    "#drop null values\n",
    "df.dropna(inplace=True)"
   ]
  },
  {
   "cell_type": "code",
   "execution_count": 136,
   "id": "4475f9a1-fd7b-47be-8842-d707f15d3a91",
   "metadata": {},
   "outputs": [
    {
     "data": {
      "text/plain": [
       "(1987, 15)"
      ]
     },
     "execution_count": 136,
     "metadata": {},
     "output_type": "execute_result"
    }
   ],
   "source": [
    "df.shape"
   ]
  },
  {
   "cell_type": "code",
   "execution_count": 137,
   "id": "222f47a2-37b2-4449-88a6-716164059df4",
   "metadata": {},
   "outputs": [],
   "source": [
    "#change data type\n",
    "df['sale_date'] = pd.to_datetime(df['sale_date'])\n",
    "# Create new columns for year, month, day\n",
    "df['year'] = df['sale_date'].dt.year\n",
    "df['month'] = df['sale_date'].dt.month\n",
    "df['day'] = df['sale_date'].dt.day\n",
    "df['age'] = df['age'].astype('int')\n",
    "\n",
    "# Fill missing age with median\n",
    "df['age'] = df['age'].fillna(df['age'].median())"
   ]
  },
  {
   "cell_type": "code",
   "execution_count": 103,
   "id": "e9be9e91-993a-48a9-a468-fc1f7b7e9484",
   "metadata": {
    "scrolled": true
   },
   "outputs": [
    {
     "data": {
      "text/plain": [
       "dtype('<M8[ns]')"
      ]
     },
     "execution_count": 103,
     "metadata": {},
     "output_type": "execute_result"
    }
   ],
   "source": [
    "#to check the datatype of sale_date\n",
    "df['sale_date'].dtypes"
   ]
  },
  {
   "cell_type": "code",
   "execution_count": 52,
   "id": "d6d7eb23-62ce-44b4-80a8-e2f56a5a7aca",
   "metadata": {},
   "outputs": [
    {
     "data": {
      "text/plain": [
       "Index(['transactions_id', 'sale_date', 'sale_time', 'customer_id', 'gender',\n",
       "       'age', 'category', 'quantity', 'price_per_unit', 'cogs', 'total_sale',\n",
       "       'transactions_id', 'order_value_raw'],\n",
       "      dtype='object')"
      ]
     },
     "execution_count": 52,
     "metadata": {},
     "output_type": "execute_result"
    }
   ],
   "source": [
    "df.columns"
   ]
  },
  {
   "cell_type": "code",
   "execution_count": 123,
   "id": "832209c3-a5d2-44e0-a378-dd45d23065ec",
   "metadata": {
    "scrolled": true
   },
   "outputs": [],
   "source": [
    "#rename columns\n",
    "df.rename(columns={'quantiy':'quantity'},inplace=True)\n",
    "df.rename(columns={'ï»¿transactions_id':'transactions_id'},inplace=True)"
   ]
  },
  {
   "cell_type": "code",
   "execution_count": 43,
   "id": "89b81aff-ed99-4ebd-a923-beeab40c9ca8",
   "metadata": {},
   "outputs": [
    {
     "data": {
      "text/html": [
       "<div>\n",
       "<style scoped>\n",
       "    .dataframe tbody tr th:only-of-type {\n",
       "        vertical-align: middle;\n",
       "    }\n",
       "\n",
       "    .dataframe tbody tr th {\n",
       "        vertical-align: top;\n",
       "    }\n",
       "\n",
       "    .dataframe thead th {\n",
       "        text-align: right;\n",
       "    }\n",
       "</style>\n",
       "<table border=\"1\" class=\"dataframe\">\n",
       "  <thead>\n",
       "    <tr style=\"text-align: right;\">\n",
       "      <th></th>\n",
       "      <th>transactions_id</th>\n",
       "      <th>sale_date</th>\n",
       "      <th>customer_id</th>\n",
       "      <th>age</th>\n",
       "      <th>quantity</th>\n",
       "      <th>price_per_unit</th>\n",
       "      <th>cogs</th>\n",
       "      <th>total_sale</th>\n",
       "    </tr>\n",
       "  </thead>\n",
       "  <tbody>\n",
       "    <tr>\n",
       "      <th>count</th>\n",
       "      <td>1987.000000</td>\n",
       "      <td>1987</td>\n",
       "      <td>1987.000000</td>\n",
       "      <td>1987.000000</td>\n",
       "      <td>1987.00000</td>\n",
       "      <td>1987.000000</td>\n",
       "      <td>1987.000000</td>\n",
       "      <td>1987.000000</td>\n",
       "    </tr>\n",
       "    <tr>\n",
       "      <th>mean</th>\n",
       "      <td>1000.513337</td>\n",
       "      <td>2023-02-18 10:29:46.411675904</td>\n",
       "      <td>66.284852</td>\n",
       "      <td>41.351283</td>\n",
       "      <td>2.51384</td>\n",
       "      <td>179.924509</td>\n",
       "      <td>95.081933</td>\n",
       "      <td>457.086059</td>\n",
       "    </tr>\n",
       "    <tr>\n",
       "      <th>min</th>\n",
       "      <td>1.000000</td>\n",
       "      <td>2022-01-01 00:00:00</td>\n",
       "      <td>1.000000</td>\n",
       "      <td>18.000000</td>\n",
       "      <td>1.00000</td>\n",
       "      <td>25.000000</td>\n",
       "      <td>6.250000</td>\n",
       "      <td>25.000000</td>\n",
       "    </tr>\n",
       "    <tr>\n",
       "      <th>25%</th>\n",
       "      <td>499.500000</td>\n",
       "      <td>2022-09-24 12:00:00</td>\n",
       "      <td>24.000000</td>\n",
       "      <td>29.000000</td>\n",
       "      <td>1.00000</td>\n",
       "      <td>30.000000</td>\n",
       "      <td>13.000000</td>\n",
       "      <td>60.000000</td>\n",
       "    </tr>\n",
       "    <tr>\n",
       "      <th>50%</th>\n",
       "      <td>1001.000000</td>\n",
       "      <td>2023-01-18 00:00:00</td>\n",
       "      <td>69.000000</td>\n",
       "      <td>42.000000</td>\n",
       "      <td>3.00000</td>\n",
       "      <td>50.000000</td>\n",
       "      <td>27.500000</td>\n",
       "      <td>150.000000</td>\n",
       "    </tr>\n",
       "    <tr>\n",
       "      <th>75%</th>\n",
       "      <td>1502.500000</td>\n",
       "      <td>2023-09-14 00:00:00</td>\n",
       "      <td>102.000000</td>\n",
       "      <td>53.000000</td>\n",
       "      <td>4.00000</td>\n",
       "      <td>300.000000</td>\n",
       "      <td>147.000000</td>\n",
       "      <td>900.000000</td>\n",
       "    </tr>\n",
       "    <tr>\n",
       "      <th>max</th>\n",
       "      <td>2000.000000</td>\n",
       "      <td>2023-12-31 00:00:00</td>\n",
       "      <td>155.000000</td>\n",
       "      <td>64.000000</td>\n",
       "      <td>4.00000</td>\n",
       "      <td>500.000000</td>\n",
       "      <td>620.000000</td>\n",
       "      <td>2000.000000</td>\n",
       "    </tr>\n",
       "    <tr>\n",
       "      <th>std</th>\n",
       "      <td>578.274413</td>\n",
       "      <td>NaN</td>\n",
       "      <td>44.964430</td>\n",
       "      <td>13.662653</td>\n",
       "      <td>1.13277</td>\n",
       "      <td>189.441178</td>\n",
       "      <td>122.032280</td>\n",
       "      <td>560.862242</td>\n",
       "    </tr>\n",
       "  </tbody>\n",
       "</table>\n",
       "</div>"
      ],
      "text/plain": [
       "       transactions_id                      sale_date  customer_id  \\\n",
       "count      1987.000000                           1987  1987.000000   \n",
       "mean       1000.513337  2023-02-18 10:29:46.411675904    66.284852   \n",
       "min           1.000000            2022-01-01 00:00:00     1.000000   \n",
       "25%         499.500000            2022-09-24 12:00:00    24.000000   \n",
       "50%        1001.000000            2023-01-18 00:00:00    69.000000   \n",
       "75%        1502.500000            2023-09-14 00:00:00   102.000000   \n",
       "max        2000.000000            2023-12-31 00:00:00   155.000000   \n",
       "std         578.274413                            NaN    44.964430   \n",
       "\n",
       "               age    quantity  price_per_unit         cogs   total_sale  \n",
       "count  1987.000000  1987.00000     1987.000000  1987.000000  1987.000000  \n",
       "mean     41.351283     2.51384      179.924509    95.081933   457.086059  \n",
       "min      18.000000     1.00000       25.000000     6.250000    25.000000  \n",
       "25%      29.000000     1.00000       30.000000    13.000000    60.000000  \n",
       "50%      42.000000     3.00000       50.000000    27.500000   150.000000  \n",
       "75%      53.000000     4.00000      300.000000   147.000000   900.000000  \n",
       "max      64.000000     4.00000      500.000000   620.000000  2000.000000  \n",
       "std      13.662653     1.13277      189.441178   122.032280   560.862242  "
      ]
     },
     "execution_count": 43,
     "metadata": {},
     "output_type": "execute_result"
    }
   ],
   "source": [
    "# describe() method returns description of data in the DataFrame (i.e. count, mean, std, etc)\n",
    "df.describe()"
   ]
  },
  {
   "cell_type": "code",
   "execution_count": 124,
   "id": "265d8bfe-f1d7-4bf1-ac2e-3668a795e2d2",
   "metadata": {},
   "outputs": [
    {
     "data": {
      "text/plain": [
       "Index(['transactions_id', 'sale_date', 'sale_time', 'customer_id', 'gender',\n",
       "       'age', 'category', 'quantity', 'price_per_unit', 'cogs', 'total_sale',\n",
       "       'order_value_raw', 'month', 'year', 'day'],\n",
       "      dtype='object')"
      ]
     },
     "execution_count": 124,
     "metadata": {},
     "output_type": "execute_result"
    }
   ],
   "source": [
    "#new column\n",
    "df['order_value_raw'] = None\n",
    "df.columns"
   ]
  },
  {
   "cell_type": "code",
   "execution_count": 125,
   "id": "901680dd-e8dd-4a57-8170-f1f7d988f6f3",
   "metadata": {},
   "outputs": [],
   "source": [
    "df=df.loc[:, ~df.columns.duplicated()]"
   ]
  },
  {
   "cell_type": "code",
   "execution_count": 106,
   "id": "3145143d-fe2e-4aff-9fb2-1c87031eb4c4",
   "metadata": {},
   "outputs": [
    {
     "data": {
      "text/plain": [
       "Index(['transactions_id', 'sale_date', 'sale_time', 'customer_id', 'gender',\n",
       "       'age', 'category', 'quantity', 'price_per_unit', 'cogs', 'total_sale',\n",
       "       'order_value_raw', 'month', 'year', 'day'],\n",
       "      dtype='object')"
      ]
     },
     "execution_count": 106,
     "metadata": {},
     "output_type": "execute_result"
    }
   ],
   "source": [
    "df.columns"
   ]
  },
  {
   "cell_type": "code",
   "execution_count": 126,
   "id": "9af8fd20-f04a-4033-bf4f-8c5f1498e4a0",
   "metadata": {},
   "outputs": [],
   "source": [
    "df['order_value_raw'] = df['transactions_id'].copy()"
   ]
  },
  {
   "cell_type": "code",
   "execution_count": 61,
   "id": "562c0d1c-bfe1-4dca-9680-066c7e123c01",
   "metadata": {},
   "outputs": [
    {
     "data": {
      "text/html": [
       "<div>\n",
       "<style scoped>\n",
       "    .dataframe tbody tr th:only-of-type {\n",
       "        vertical-align: middle;\n",
       "    }\n",
       "\n",
       "    .dataframe tbody tr th {\n",
       "        vertical-align: top;\n",
       "    }\n",
       "\n",
       "    .dataframe thead th {\n",
       "        text-align: right;\n",
       "    }\n",
       "</style>\n",
       "<table border=\"1\" class=\"dataframe\">\n",
       "  <thead>\n",
       "    <tr style=\"text-align: right;\">\n",
       "      <th></th>\n",
       "      <th>transactions_id</th>\n",
       "      <th>sale_date</th>\n",
       "      <th>sale_time</th>\n",
       "      <th>customer_id</th>\n",
       "      <th>gender</th>\n",
       "      <th>age</th>\n",
       "      <th>category</th>\n",
       "      <th>quantity</th>\n",
       "      <th>price_per_unit</th>\n",
       "      <th>cogs</th>\n",
       "      <th>total_sale</th>\n",
       "      <th>order_value_raw</th>\n",
       "    </tr>\n",
       "  </thead>\n",
       "  <tbody>\n",
       "    <tr>\n",
       "      <th>0</th>\n",
       "      <td>180</td>\n",
       "      <td>2022-11-05</td>\n",
       "      <td>10:47:00</td>\n",
       "      <td>117</td>\n",
       "      <td>Male</td>\n",
       "      <td>41</td>\n",
       "      <td>Clothing</td>\n",
       "      <td>3.0</td>\n",
       "      <td>300.0</td>\n",
       "      <td>129.0</td>\n",
       "      <td>900.0</td>\n",
       "      <td>180</td>\n",
       "    </tr>\n",
       "    <tr>\n",
       "      <th>1</th>\n",
       "      <td>522</td>\n",
       "      <td>2022-07-09</td>\n",
       "      <td>11:00:00</td>\n",
       "      <td>52</td>\n",
       "      <td>Male</td>\n",
       "      <td>46</td>\n",
       "      <td>Beauty</td>\n",
       "      <td>3.0</td>\n",
       "      <td>500.0</td>\n",
       "      <td>145.0</td>\n",
       "      <td>1500.0</td>\n",
       "      <td>522</td>\n",
       "    </tr>\n",
       "    <tr>\n",
       "      <th>2</th>\n",
       "      <td>559</td>\n",
       "      <td>2022-12-12</td>\n",
       "      <td>10:48:00</td>\n",
       "      <td>5</td>\n",
       "      <td>Female</td>\n",
       "      <td>40</td>\n",
       "      <td>Clothing</td>\n",
       "      <td>4.0</td>\n",
       "      <td>300.0</td>\n",
       "      <td>84.0</td>\n",
       "      <td>1200.0</td>\n",
       "      <td>559</td>\n",
       "    </tr>\n",
       "    <tr>\n",
       "      <th>3</th>\n",
       "      <td>1180</td>\n",
       "      <td>2022-01-06</td>\n",
       "      <td>08:53:00</td>\n",
       "      <td>85</td>\n",
       "      <td>Male</td>\n",
       "      <td>41</td>\n",
       "      <td>Clothing</td>\n",
       "      <td>3.0</td>\n",
       "      <td>300.0</td>\n",
       "      <td>129.0</td>\n",
       "      <td>900.0</td>\n",
       "      <td>1180</td>\n",
       "    </tr>\n",
       "    <tr>\n",
       "      <th>4</th>\n",
       "      <td>1522</td>\n",
       "      <td>2022-11-14</td>\n",
       "      <td>08:35:00</td>\n",
       "      <td>48</td>\n",
       "      <td>Male</td>\n",
       "      <td>46</td>\n",
       "      <td>Beauty</td>\n",
       "      <td>3.0</td>\n",
       "      <td>500.0</td>\n",
       "      <td>235.0</td>\n",
       "      <td>1500.0</td>\n",
       "      <td>1522</td>\n",
       "    </tr>\n",
       "  </tbody>\n",
       "</table>\n",
       "</div>"
      ],
      "text/plain": [
       "   transactions_id  sale_date sale_time  customer_id  gender  age  category  \\\n",
       "0              180 2022-11-05  10:47:00          117    Male   41  Clothing   \n",
       "1              522 2022-07-09  11:00:00           52    Male   46    Beauty   \n",
       "2              559 2022-12-12  10:48:00            5  Female   40  Clothing   \n",
       "3             1180 2022-01-06  08:53:00           85    Male   41  Clothing   \n",
       "4             1522 2022-11-14  08:35:00           48    Male   46    Beauty   \n",
       "\n",
       "   quantity  price_per_unit   cogs  total_sale  order_value_raw  \n",
       "0       3.0           300.0  129.0       900.0              180  \n",
       "1       3.0           500.0  145.0      1500.0              522  \n",
       "2       4.0           300.0   84.0      1200.0              559  \n",
       "3       3.0           300.0  129.0       900.0             1180  \n",
       "4       3.0           500.0  235.0      1500.0             1522  "
      ]
     },
     "execution_count": 61,
     "metadata": {},
     "output_type": "execute_result"
    }
   ],
   "source": [
    "df.head()"
   ]
  },
  {
   "cell_type": "code",
   "execution_count": 127,
   "id": "f3a2b87e-1416-4dd4-98b5-6e8e872e1c1f",
   "metadata": {},
   "outputs": [
    {
     "data": {
      "text/html": [
       "<div>\n",
       "<style scoped>\n",
       "    .dataframe tbody tr th:only-of-type {\n",
       "        vertical-align: middle;\n",
       "    }\n",
       "\n",
       "    .dataframe tbody tr th {\n",
       "        vertical-align: top;\n",
       "    }\n",
       "\n",
       "    .dataframe thead th {\n",
       "        text-align: right;\n",
       "    }\n",
       "</style>\n",
       "<table border=\"1\" class=\"dataframe\">\n",
       "  <thead>\n",
       "    <tr style=\"text-align: right;\">\n",
       "      <th></th>\n",
       "      <th>price_per_unit</th>\n",
       "      <th>total_sale</th>\n",
       "      <th>order_value_raw</th>\n",
       "    </tr>\n",
       "  </thead>\n",
       "  <tbody>\n",
       "    <tr>\n",
       "      <th>count</th>\n",
       "      <td>1987.000000</td>\n",
       "      <td>1987.000000</td>\n",
       "      <td>1987.000000</td>\n",
       "    </tr>\n",
       "    <tr>\n",
       "      <th>mean</th>\n",
       "      <td>179.924509</td>\n",
       "      <td>457.086059</td>\n",
       "      <td>1000.513337</td>\n",
       "    </tr>\n",
       "    <tr>\n",
       "      <th>std</th>\n",
       "      <td>189.441178</td>\n",
       "      <td>560.862242</td>\n",
       "      <td>578.274413</td>\n",
       "    </tr>\n",
       "    <tr>\n",
       "      <th>min</th>\n",
       "      <td>25.000000</td>\n",
       "      <td>25.000000</td>\n",
       "      <td>1.000000</td>\n",
       "    </tr>\n",
       "    <tr>\n",
       "      <th>25%</th>\n",
       "      <td>30.000000</td>\n",
       "      <td>60.000000</td>\n",
       "      <td>499.500000</td>\n",
       "    </tr>\n",
       "    <tr>\n",
       "      <th>50%</th>\n",
       "      <td>50.000000</td>\n",
       "      <td>150.000000</td>\n",
       "      <td>1001.000000</td>\n",
       "    </tr>\n",
       "    <tr>\n",
       "      <th>75%</th>\n",
       "      <td>300.000000</td>\n",
       "      <td>900.000000</td>\n",
       "      <td>1502.500000</td>\n",
       "    </tr>\n",
       "    <tr>\n",
       "      <th>max</th>\n",
       "      <td>500.000000</td>\n",
       "      <td>2000.000000</td>\n",
       "      <td>2000.000000</td>\n",
       "    </tr>\n",
       "  </tbody>\n",
       "</table>\n",
       "</div>"
      ],
      "text/plain": [
       "       price_per_unit   total_sale  order_value_raw\n",
       "count     1987.000000  1987.000000      1987.000000\n",
       "mean       179.924509   457.086059      1000.513337\n",
       "std        189.441178   560.862242       578.274413\n",
       "min         25.000000    25.000000         1.000000\n",
       "25%         30.000000    60.000000       499.500000\n",
       "50%         50.000000   150.000000      1001.000000\n",
       "75%        300.000000   900.000000      1502.500000\n",
       "max        500.000000  2000.000000      2000.000000"
      ]
     },
     "execution_count": 127,
     "metadata": {},
     "output_type": "execute_result"
    }
   ],
   "source": [
    "   # use describe() for specific columns\n",
    "df[['price_per_unit','total_sale','order_value_raw']].describe()"
   ]
  },
  {
   "cell_type": "markdown",
   "id": "f6bfe433-86cd-4140-993f-faba1ade1685",
   "metadata": {},
   "source": [
    "**EXPLORATORY DATA ANALYSIS**"
   ]
  },
  {
   "cell_type": "code",
   "execution_count": 64,
   "id": "65428ac6-3ae8-43f9-a97c-fa20c52cf08b",
   "metadata": {},
   "outputs": [
    {
     "data": {
      "text/plain": [
       "Index(['transactions_id', 'sale_date', 'sale_time', 'customer_id', 'gender',\n",
       "       'age', 'category', 'quantity', 'price_per_unit', 'cogs', 'total_sale',\n",
       "       'order_value_raw'],\n",
       "      dtype='object')"
      ]
     },
     "execution_count": 64,
     "metadata": {},
     "output_type": "execute_result"
    }
   ],
   "source": [
    "df.columns"
   ]
  },
  {
   "cell_type": "markdown",
   "id": "92d5884c-b87d-4d17-9025-517efea7a03f",
   "metadata": {},
   "source": [
    "***Customer Age Distribution***"
   ]
  },
  {
   "cell_type": "code",
   "execution_count": 128,
   "id": "a008c457-99d2-4c6d-9c32-97f8e236ede3",
   "metadata": {},
   "outputs": [
    {
     "data": {
      "text/plain": [
       "Text(0, 0.5, 'Number of Customers')"
      ]
     },
     "execution_count": 128,
     "metadata": {},
     "output_type": "execute_result"
    },
    {
     "data": {
      "image/png": "[encoded data removed]",
      "text/plain": [
       "<Figure size 640x480 with 1 Axes>"
      ]
     },
     "metadata": {},
     "output_type": "display_data"
    }
   ],
   "source": [
    "#Customer Age Distribution\n",
    "plt.hist(df['age'], bins=15, color='gold', alpha=0.7, edgecolor='black')\n",
    "plt.title(' Customer Ages')\n",
    "plt.xlabel('Age')\n",
    "plt.ylabel('Number of Customers')"
   ]
  },
  {
   "cell_type": "markdown",
   "id": "2c1874c1-b324-45c3-8a13-4ebd1578bc57",
   "metadata": {},
   "source": [
    "***Total Sales per Month***:  Let's visualize how sales vary across months and years."
   ]
  },
  {
   "cell_type": "code",
   "execution_count": 129,
   "id": "2e25a422-03d2-4c9b-94ef-b7a9928aa8a0",
   "metadata": {},
   "outputs": [
    {
     "data": {
      "image/png": "[encoded data removed]",
      "text/plain": [
       "<Figure size 1200x600 with 1 Axes>"
      ]
     },
     "metadata": {},
     "output_type": "display_data"
    }
   ],
   "source": [
    "# Total sales per month\n",
    "monthly_sales = df.groupby(['year', 'month'])['total_sale'].sum().reset_index()\n",
    "\n",
    "# Plot\n",
    "plt.figure(figsize=(12,6))\n",
    "sns.lineplot(data=monthly_sales, x='month', y='total_sale', hue='year', marker='o')\n",
    "plt.title('Monthly Sales Trend')\n",
    "plt.xlabel('Month')\n",
    "plt.ylabel('Total Sales')\n",
    "plt.grid(True)\n",
    "plt.show()"
   ]
  },
  {
   "cell_type": "markdown",
   "id": "e965326a-97e9-4c1d-920f-ffeff28c5252",
   "metadata": {},
   "source": [
    "***Total Sales Per Category***:  Which product categories generate the most revenue?"
   ]
  },
  {
   "cell_type": "code",
   "execution_count": 139,
   "id": "6ac9b9dc-485c-4cf6-b282-2f199b84dd7b",
   "metadata": {},
   "outputs": [
    {
     "data": {
      "image/png": "[encoded data removed]",
      "text/plain": [
       "<Figure size 800x500 with 1 Axes>"
      ]
     },
     "metadata": {},
     "output_type": "display_data"
    }
   ],
   "source": [
    "# Total sales per category\n",
    "category_sales = df.groupby('category')['total_sale'].sum().sort_values(ascending=False)\n",
    "\n",
    "# Plot\n",
    "plt.figure(figsize=(8,5))\n",
    "category_sales.plot(kind='bar', color='skyblue')\n",
    "plt.title('Total Sales by Category')\n",
    "plt.ylabel('Sales')\n",
    "plt.xticks(rotation=45)\n",
    "plt.show()"
   ]
  },
  {
   "cell_type": "markdown",
   "id": "2c18475f-dd03-414c-9d01-c0fc905eb804",
   "metadata": {},
   "source": [
    "****KPIs**** :\n",
    "Let's calculate total sales, revenue per category, and average order value."
   ]
  },
  {
   "cell_type": "code",
   "execution_count": 131,
   "id": "fae657e9-0d41-4b2c-a73b-687ff54cb632",
   "metadata": {},
   "outputs": [
    {
     "name": "stdout",
     "output_type": "stream",
     "text": [
      " Total Sales: 908230.0\n",
      "\n",
      " Revenue per Category:\n",
      " category\n",
      "Beauty         286790.0\n",
      "Clothing       309995.0\n",
      "Electronics    311445.0\n",
      "Name: total_sale, dtype: float64\n",
      "\n",
      " Average Order Value: 457.09\n"
     ]
    }
   ],
   "source": [
    "# Total Sales\n",
    "total_sales = df['total_sale'].sum()\n",
    "\n",
    "# Revenue per Category\n",
    "revenue_per_category = df.groupby('category')['total_sale'].sum()\n",
    "\n",
    "# Average Order Value\n",
    "average_order_value = df['total_sale'].mean()\n",
    "\n",
    "print(\" Total Sales:\", total_sales)\n",
    "print(\"\\n Revenue per Category:\\n\", revenue_per_category)\n",
    "print(\"\\n Average Order Value:\", round(average_order_value, 2))"
   ]
  },
  {
   "cell_type": "markdown",
   "id": "fcd2c3b0-dbff-4a3d-8fa7-853b77225261",
   "metadata": {},
   "source": [
    "***Seasonality Analysis***:  \n",
    "Are there seasonal patterns in sales?"
   ]
  },
  {
   "cell_type": "code",
   "execution_count": 138,
   "id": "d7a0266e-defa-426d-86de-cbf8d32f0e37",
   "metadata": {},
   "outputs": [
    {
     "data": {
      "image/png": "[encoded data removed]",
      "text/plain": [
       "<Figure size 1000x500 with 1 Axes>"
      ]
     },
     "metadata": {},
     "output_type": "display_data"
    }
   ],
   "source": [
    "# Sales by month across all years\n",
    "monthly_total = df.groupby('month')['total_sale'].sum()\n",
    "\n",
    "# Plot\n",
    "plt.figure(figsize=(10,5))\n",
    "monthly_total.plot(kind='bar', color='mediumseagreen')\n",
    "plt.title('Seasonal Sales Pattern')\n",
    "plt.xlabel('Month')\n",
    "plt.ylabel('Total Sales')\n",
    "plt.xticks(rotation=0)\n",
    "plt.show()"
   ]
  },
  {
   "cell_type": "markdown",
   "id": "d346083a-3603-47b7-b544-a6342cf6f389",
   "metadata": {},
   "source": [
    "*******Conclusion*******\n",
    "\n",
    "- Clothing is the top-selling category, followed by Beauty and Electronics.\n",
    "- Female customers contribute more to total sales.\n",
    "- Sales peak in November and December, indicating strong seasonality.\n",
    "- Average order value is around ₹300–₹500.\n",
    "\n",
    "This analysis helps retailers understand customer behavior, optimize inventory, and plan seasonal promotions.\n"
   ]
  },
  {
   "cell_type": "code",
   "execution_count": null,
   "id": "3c8e8910-fe00-4d43-a25b-06ca203e0de1",
   "metadata": {},
   "outputs": [],
   "source": []
  }
 ],
 "metadata": {
  "kernelspec": {
   "display_name": "Python 3 (ipykernel)",
   "language": "python",
   "name": "python3"
  },
  "language_info": {
   "codemirror_mode": {
    "name": "ipython",
    "version": 3
   },
   "file_extension": ".py",
   "mimetype": "text/x-python",
   "name": "python",
   "nbconvert_exporter": "python",
   "pygments_lexer": "ipython3",
   "version": "3.13.5"
  }
 },
 "nbformat": 4,
 "nbformat_minor": 5
}
